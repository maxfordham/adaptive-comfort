{
 "cells": [
  {
   "cell_type": "markdown",
   "metadata": {},
   "source": [
    "# __Adaptive Comfort__\n",
    "\n",
    "---"
   ]
  },
  {
   "cell_type": "markdown",
   "metadata": {},
   "source": [
    "```{include} ../README.md\n",
    "```"
   ]
  },
  {
   "cell_type": "code",
   "execution_count": 4,
   "metadata": {
    "tags": [
     "remove-input"
    ]
   },
   "outputs": [
    {
     "data": {
      "text/markdown": [
       "# Welcome to Adaptive Comfort!\n",
       "\n",
       "This package assesses the thermal comfort of a space within a building against the Criterion defined in CIBSE TM52 and TM59.  \n",
       "\n",
       "## Inputs\n",
       "- air temperature of the rooms\n",
       "- mean radiant temperature of the rooms\n",
       "- elevated air speed within rooms (as default the calculation is run at every air speed)\n",
       "- external dry bulb temperature\n",
       "- annual occupancy profile\n",
       "\n",
       "## Outputs: \n",
       "- TM52/TM59 pass or fail for each criterion for each room\n",
       "\n",
       "The calculation is done in python; the inputs for this calculation can be extracted from IES using the VEscripts API, as described here: __[MXF_IES_UserGuide_VEScripts_014](https://wiki.maxfordham.com/pub/Main/MXFIESUSERGUIDEVESCRIPTS/MXF_IES_UserGuide_VEScripts_014.pdf)__. \n",
       "\n",
       "The calculation could also be done independently of IES, provided that the inputs are given in the appropriate format. \n",
       "\n"
      ],
      "text/plain": [
       "<IPython.core.display.Markdown object>"
      ]
     },
     "execution_count": 4,
     "metadata": {},
     "output_type": "execute_result"
    }
   ],
   "source": [
    "from IPython.display import Markdown, display\n",
    "\n",
    "display(Markdown(\"../README.md\"))"
   ]
  },
  {
   "cell_type": "markdown",
   "metadata": {},
   "source": [
    "*References: {cite}`tm52_report` and TM59 {cite}`tm59_report`*\n",
    "\n",
    "## Workflow\n",
    "\n",
    "The process of how the script obtains the report:\n",
    "\n",
    "```{mermaid}\n",
    "    flowchart TD\n",
    "        subgraph P1 [VEscripts]\n",
    "            A[export_tm52_results.py<br>Obtain weather and room data from IES API]\n",
    "        end\n",
    "        subgraph P2 [adaptive_comfort]\n",
    "         B[Calculate: Operative Temperature, <br>Maximum Acceptable<br> Temperature, <br> delta Ts] --> C[Calculate TM52 Criteria for each room] --> D[Output report to excel]\n",
    "        end\n",
    "    P1 --> P2\n",
    "```\n",
    "\n",
    "When in the VEScript editor in IES VE, open the script folder and run export_tm52_results.py. This script obtains the data through the IES API and then calls the adaptive_comfort python package to perform the calculations. The calculations will see whether the spaces pass the criteria successfully or not. All this information is then output into an excel spreadsheet.\n"
   ]
  },
  {
   "cell_type": "markdown",
   "metadata": {},
   "source": []
  }
 ],
 "metadata": {
  "kernelspec": {
   "display_name": "Python [conda env:adaptive_comfort_docs]",
   "language": "python",
   "name": "conda-env-adaptive_comfort_docs-py"
  },
  "language_info": {
   "codemirror_mode": {
    "name": "ipython",
    "version": 3
   },
   "file_extension": ".py",
   "mimetype": "text/x-python",
   "name": "python",
   "nbconvert_exporter": "python",
   "pygments_lexer": "ipython3",
   "version": "3.10.2"
  }
 },
 "nbformat": 4,
 "nbformat_minor": 4
}
