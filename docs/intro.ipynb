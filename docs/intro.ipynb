{
 "cells": [
  {
   "cell_type": "code",
   "execution_count": null,
   "metadata": {},
   "outputs": [],
   "source": [
    "from IPython.display import Markdown, display\n",
    "\n",
    "display(Markdown(\"README.md\"))"
   ]
  },
  {
   "cell_type": "markdown",
   "metadata": {},
   "source": [
    "*References: {cite}`a-tm52_report` and TM59 {cite}`a-tm59_report`*\n",
    "\n",
    "## Workflow\n",
    "\n",
    "The process of how the script obtains the report:\n",
    "\n",
    "```{mermaid}\n",
    "    flowchart TD\n",
    "        subgraph P1 [VEscripts]\n",
    "            A[export_tm52_results.py<br>Obtain weather and room data from IES API]\n",
    "        end\n",
    "        subgraph P2 [adaptive_comfort]\n",
    "         B[Calculate: Operative Temperature, <br>Maximum Acceptable<br> Temperature, <br> delta Ts] --> C[Calculate TM52 Criteria for each room] --> D[Output report to excel]\n",
    "        end\n",
    "    P1 --> P2\n",
    "```\n",
    "\n",
    "When in the VEScript editor in IES VE, open the script folder and run export_tm52_results.py. This script obtains the data through the IES API and then calls the adaptive_comfort python package to perform the calculations. The calculations will see whether the spaces pass the criteria successfully or not. All this information is then output into an excel spreadsheet.\n",
    "\n",
    "---\n",
    "\n",
    "```{bibliography}\n",
    ":filter: docname in docnames\n",
    ":labelprefix: A\n",
    ":keyprefix: a-\n",
    "```\n"
   ]
  },
  {
   "cell_type": "markdown",
   "metadata": {},
   "source": []
  }
 ],
 "metadata": {
  "language_info": {
   "name": "python"
  },
  "orig_nbformat": 4
 },
 "nbformat": 4,
 "nbformat_minor": 2
}
